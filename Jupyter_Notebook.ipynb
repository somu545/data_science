{
 "cells": [
  {
   "cell_type": "markdown",
   "metadata": {},
   "source": [
    "<center>\n",
    "    <img src=\"https://cf-courses-data.s3.us.cloud-object-storage.appdomain.cloud/IBMDeveloperSkillsNetwork-DS0105EN-SkillsNetwork/labs/Module2/images/SN_web_lightmode.png\" width=\"300\" alt=\"cognitiveclass.ai logo\">\n",
    "</center>\n"
   ]
  },
  {
   "cell_type": "markdown",
   "metadata": {},
   "source": [
    "#### Add your code below following the instructions given in the course\n"
   ]
  },
  {
   "cell_type": "markdown",
   "metadata": {
    "tags": []
   },
   "source": [
    "# Notebook Title"
   ]
  },
  {
   "cell_type": "markdown",
   "metadata": {},
   "source": [
    "## Introduction\n",
    "Welcome to this notebook! In this analysis"
   ]
  },
  {
   "cell_type": "markdown",
   "metadata": {},
   "source": [
    "## Data Science Languages\n",
    "\n",
    "1. **Python:** Widely used for data analysis, machine learning, and scientific computing. Popular libraries include NumPy, Pandas, and scikit-learn.\n",
    "\n",
    "2. **R:** Commonly used for statistical analysis and data visualization. It has a rich ecosystem of packages like ggplot2 and dplyr.\n",
    "\n",
    "3. **SQL:** Essential for database management and querying. Used to extract, manipulate, and analyze data stored in relational databases.\n",
    "\n",
    "4. **Julia:** Known for its high-performance numerical and scientific computing capabilities, becoming popular in data science.\n",
    "\n",
    "5. **Scala:** Often used in conjunction with Apache Spark for big data processing and analysis.\n",
    "\n",
    "6. **Java:** Widely used in big data processing frameworks such as Apache Hadoop.\n",
    "\n",
    "7. **MATLAB:** Popular in academia and industry for numerical computing and data analysis.\n",
    "\n",
    "8. **SAS:** Widely used in statistical analysis, data management, and predictive modeling in business and research.\n",
    "\n",
    "Feel free to explore and use these languages based on your specific data science needs.\n"
   ]
  },
  {
   "cell_type": "markdown",
   "metadata": {},
   "source": [
    "## Data Science Libraries\n",
    "\n",
    "1. **Python:**\n",
    "   - **NumPy:** Fundamental package for scientific computing with support for large, multi-dimensional arrays and matrices.\n",
    "   - **Pandas:** Data manipulation and analysis library, providing data structures like DataFrame.\n",
    "   - **Matplotlib:** A 2D plotting library for creating static, animated, and interactive visualizations.\n",
    "   - **Seaborn:** Built on top of Matplotlib, Seaborn provides a high-level interface for statistical data visualization.\n",
    "\n",
    "2. **R:**\n",
    "   - **ggplot2:** A powerful and flexible plotting system for creating static, animated, and interactive visualizations.\n",
    "   - **dplyr:** A grammar of data manipulation, used for data cleaning, filtering, and summarization.\n",
    "\n",
    "3. **Machine Learning:**\n",
    "   - **scikit-learn (Python):** Simple and efficient tools for data mining and data analysis, particularly for machine learning.\n",
    "   - **caret (R):** A comprehensive package for machine learning in R, providing a unified interface for various modeling techniques.\n",
    "\n",
    "4. **Deep Learning:**\n",
    "   - **TensorFlow:** An open-source machine learning framework developed by the Google Brain team.\n",
    "   - **PyTorch:** An open-source deep learning platform developed by Facebook's AI Research lab (FAIR).\n",
    "\n",
    "5. **Natural Language Processing (NLP):**\n",
    "   - **NLTK (Natural Language Toolkit):** A library for working with human language data in Python.\n",
    "   - **spaCy:** An open-source library for advanced natural language processing in Python.\n",
    "\n",
    "6. **Data Visualization:**\n",
    "   - **Plotly:** A versatile graphing library for creating interactive plots and dashboards.\n",
    "   - **Bokeh:** An interactive visualization library that targets modern web browsers for presentation.\n",
    "\n",
    "7. **Database Interaction:**\n",
    "   - **SQLAlchemy (Python):** A SQL toolkit and Object-Relational Mapping (ORM) library for Python.\n",
    "   - **DBI (R):** A database interface for R, providing a common interface to various database management systems.\n",
    "\n",
    "8. **Big Data Processing:**\n",
    "   - **Apache Spark:** An open-source, distributed computing system that can process large datasets quickly.\n",
    "\n",
    "Feel free to explore and use these libraries based on your specific data science needs.\n"
   ]
  },
  {
   "cell_type": "markdown",
   "metadata": {},
   "source": [
    "## Data Science Tools\n",
    "\n",
    "| Category                 | Tools                                  |\n",
    "|--------------------------|----------------------------------------|\n",
    "| **Programming Languages**| Python, R, SQL, Julia, Scala, Java, MATLAB, SAS|\n",
    "| **Libraries**            | NumPy, Pandas, Matplotlib, Seaborn, ggplot2, dplyr, scikit-learn, caret, TensorFlow, PyTorch, NLTK, spaCy, Plotly, Bokeh, SQLAlchemy, DBI|\n",
    "| **Deep Learning**        | TensorFlow, PyTorch                    |\n",
    "| **NLP**                  | NLTK, spaCy                            |\n",
    "| **Data Visualization**   | Plotly, Bokeh                          |\n",
    "| **Database Interaction** | SQLAlchemy (Python), DBI (R)           |\n",
    "| **Big Data Processing**  | Apache Spark                           |\n",
    "\n",
    "Feel free to explore and use these tools based on your specific data science needs.\n"
   ]
  },
  {
   "cell_type": "markdown",
   "metadata": {},
   "source": [
    "## Arithmetic Expression Examples\n",
    "\n",
    "In mathematics and programming, arithmetic expressions involve mathematical operations such as addition, subtraction, multiplication, and division. In this notebook, we'll explore examples of arithmetic expressions using Python.\n"
   ]
  },
  {
   "cell_type": "markdown",
   "metadata": {},
   "source": [
    "# Multiplication Example\n",
    "result_multiply = 5 * 7\n",
    "print(\"Multiplication Result:\", result_multiply)\n",
    "\n",
    "# Addition Example\n",
    "result_addition = 12 + 3\n",
    "print(\"Addition Result:\", result_addition)\n"
   ]
  },
  {
   "cell_type": "markdown",
   "metadata": {},
   "source": [
    "# Conversion from minutes to hours\n",
    "minutes = 120\n",
    "hours = minutes / 60\n",
    "print(f\"{minutes} minutes is equal to {hours} hours.\")\n"
   ]
  },
  {
   "cell_type": "markdown",
   "metadata": {},
   "source": [
    "## Objectives\n",
    "\n",
    "1. Explore and understand basic arithmetic expressions.\n",
    "2. Introduce common data science tools and libraries.\n",
    "3. Demonstrate simple coding examples for mathematical operations.\n",
    "4. Convert units from minutes to hours using Python.\n",
    "5. Share and collaborate on the notebook through GitHub.\n"
   ]
  },
  {
   "cell_type": "markdown",
   "metadata": {},
   "source": [
    "## Author\n",
    "\n",
    "Somnath Singha Roy"
   ]
  }
 ],
 "metadata": {
  "kernelspec": {
   "display_name": "Python",
   "language": "python",
   "name": "conda-env-python-py"
  },
  "language_info": {
   "codemirror_mode": {
    "name": "ipython",
    "version": 3
   },
   "file_extension": ".py",
   "mimetype": "text/x-python",
   "name": "python",
   "nbconvert_exporter": "python",
   "pygments_lexer": "ipython3",
   "version": "3.7.12"
  }
 },
 "nbformat": 4,
 "nbformat_minor": 4
}
